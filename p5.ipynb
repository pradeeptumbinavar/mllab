{
  "metadata": {
    "kernelspec": {
      "name": "python",
      "display_name": "Python (Pyodide)",
      "language": "python"
    },
    "language_info": {
      "codemirror_mode": {
        "name": "python",
        "version": 3
      },
      "file_extension": ".py",
      "mimetype": "text/x-python",
      "name": "python",
      "nbconvert_exporter": "python",
      "pygments_lexer": "ipython3",
      "version": "3.8"
    }
  },
  "nbformat_minor": 4,
  "nbformat": 4,
  "cells": [
    {
      "cell_type": "code",
      "source": "import numpy as np\nX = np.array(([2, 9], [1, 5], [3, 6]), dtype=float)\ny = np.array(([92], [86], [89]), dtype=float)\nX = X/np.amax(X,axis=0) # maximum of X array longitudinally\ny = y/100\n\n#Sigmoid Function\ndef sigmoid (x):\n    return 1/(1 + np.exp(-x))\n\n#Derivative of Sigmoid Function\ndef derivatives_sigmoid(x):\n    return x * (1 - x)\n\n#Variable initialization\nepoch=5 \t#Setting training iterations\nlr=0.1 \t\t#Setting learning rate\ninputlayer_neurons = 2 \t\t#number of features in data set\nhiddenlayer_neurons = 3 \t#number of hidden layers neurons\noutput_neurons = 1 \t\t#number of neurons at output layer\n\n#weight and bias initialization\nwh=np.random.uniform(size=(inputlayer_neurons,hiddenlayer_neurons))  #2,3\nbh=np.random.uniform(size=(1,hiddenlayer_neurons))                   #1,3\nwout=np.random.uniform(size=(hiddenlayer_neurons,output_neurons))    #3,1\nbout=np.random.uniform(size=(1,output_neurons))                      #1,1\n\nfor i in range(epoch):\n#Forward Propogation \n    hinp=np.dot(X,wh)+ bh\n    hlayer_act = sigmoid(hinp)      #HIDDEN LAYER ACTIVATION FUNCTION\n    outinp=np.dot(hlayer_act,wout)+ bout\n    output = sigmoid(outinp)\n\n    outgrad = derivatives_sigmoid(output) \n    hiddengrad = derivatives_sigmoid(hlayer_act)\n    \n    EO = y-output                   #ERROR AT OUTPUT LAYER\n    d_output = EO* outgrad\n\n    EH = d_output.dot(wout.T)       #ERROR AT HIDDEN LAYER (TRANSPOSE => COZ REVERSE(BACK))\n    d_hiddenlayer = EH * hiddengrad\n\n    wout += hlayer_act.T.dot(d_output) *lr      #REMEMBER WOUT IS 3*1 MATRIX\n    wh += X.T.dot(d_hiddenlayer) *lr\n    print (\"-----------Epoch-\", i+1, \"Starts----------\")\n    print(\"Input: \\n\" + str(X)) \n    print(\"Actual Output: \\n\" + str(y))\n    print(\"Predicted Output: \\n\" ,output)\n    print (\"-----------Epoch-\", i+1, \"Ends----------\\n\")\n        \nprint(\"Input: \\n\" + str(X)) \nprint(\"Actual Output: \\n\" + str(y))\nprint(\"Predicted Output: \\n\" ,output)",
      "metadata": {
        "trusted": true
      },
      "outputs": [
        {
          "name": "stdout",
          "text": "-----------Epoch- 1 Starts----------\nInput: \n[[0.66666667 1.        ]\n [0.33333333 0.55555556]\n [1.         0.66666667]]\nActual Output: \n[[0.92]\n [0.86]\n [0.89]]\nPredicted Output: \n [[0.72406859]\n [0.70500474]\n [0.72111241]]\n-----------Epoch- 1 Ends----------\n\n-----------Epoch- 2 Starts----------\nInput: \n[[0.66666667 1.        ]\n [0.33333333 0.55555556]\n [1.         0.66666667]]\nActual Output: \n[[0.92]\n [0.86]\n [0.89]]\nPredicted Output: \n [[0.72726302]\n [0.70793514]\n [0.72431704]]\n-----------Epoch- 2 Ends----------\n\n-----------Epoch- 3 Starts----------\nInput: \n[[0.66666667 1.        ]\n [0.33333333 0.55555556]\n [1.         0.66666667]]\nActual Output: \n[[0.92]\n [0.86]\n [0.89]]\nPredicted Output: \n [[0.73035984]\n [0.71077931]\n [0.72742412]]\n-----------Epoch- 3 Ends----------\n\n-----------Epoch- 4 Starts----------\nInput: \n[[0.66666667 1.        ]\n [0.33333333 0.55555556]\n [1.         0.66666667]]\nActual Output: \n[[0.92]\n [0.86]\n [0.89]]\nPredicted Output: \n [[0.73336313]\n [0.71354073]\n [0.73043766]]\n-----------Epoch- 4 Ends----------\n\n-----------Epoch- 5 Starts----------\nInput: \n[[0.66666667 1.        ]\n [0.33333333 0.55555556]\n [1.         0.66666667]]\nActual Output: \n[[0.92]\n [0.86]\n [0.89]]\nPredicted Output: \n [[0.73627674]\n [0.71622274]\n [0.73336153]]\n-----------Epoch- 5 Ends----------\n\nInput: \n[[0.66666667 1.        ]\n [0.33333333 0.55555556]\n [1.         0.66666667]]\nActual Output: \n[[0.92]\n [0.86]\n [0.89]]\nPredicted Output: \n [[0.73627674]\n [0.71622274]\n [0.73336153]]\n",
          "output_type": "stream"
        }
      ],
      "execution_count": 2
    },
    {
      "cell_type": "code",
      "source": "",
      "metadata": {
        "trusted": true
      },
      "outputs": [],
      "execution_count": null
    }
  ]
}