{
  "metadata": {
    "kernelspec": {
      "name": "python",
      "display_name": "Python (Pyodide)",
      "language": "python"
    },
    "language_info": {
      "codemirror_mode": {
        "name": "python",
        "version": 3
      },
      "file_extension": ".py",
      "mimetype": "text/x-python",
      "name": "python",
      "nbconvert_exporter": "python",
      "pygments_lexer": "ipython3",
      "version": "3.8"
    }
  },
  "nbformat_minor": 4,
  "nbformat": 4,
  "cells": [
    {
      "cell_type": "markdown",
      "source": "pgm1 a*",
      "metadata": {}
    },
    {
      "cell_type": "code",
      "source": "class Graph:\n    def __init__(self,adjac_lis):\n        self.adjac_lis = adjac_lis\n    def get_neighbours(self,v):\n        return self.adjac_lis[v]\n    def h(self,n):\n        H={'A':1,'B':1, 'C':1,'D':1}\n        return H[n]\n    def a_star_algorithm(self,start,stop):\n        open_lst = set([start])\n        closed_lst = set([])\n        dist ={}\n        dist[start] = 0\n        prenode ={}\n        prenode[start] =start\n        while len(open_lst)>0:\n            n = None\n            for v in open_lst:\n                if n==None or dist[v]+self.h(v)<dist[n]+self.h(n):\n                    n=v;\n            if n==None:\n                print(\"path doesnot exist\")\n                return None\n            if n==stop:\n                 reconst_path=[]\n                 while prenode[n]!=n:\n                     reconst_path.append(n)\n                     n = prenode[n]\n                 reconst_path.append(start)\n                 reconst_path.reverse()\n                 print(\"path found:{}\".format(reconst_path))\n                 return reconst_path\n            for (m,weight) in self.get_neighbours(n):\n                if m not in open_lst and m not in closed_lst:\n                    open_lst.add(m)\n                    prenode[m] = n\n                    dist[m] = dist[n]+weight\n                else:\n                    if dist[m]>dist[n]+weight:\n                        dist[m] = dist[n]+weight\n                        prenode[m]=n\n                        if m in closed_lst:\n                            closed_lst.remove(m)\n                            open_lst.add(m)\n            open_lst.remove(n)\n            closed_lst.add(n)\n        print(\"Path doesnot exist\")\n        return None\nadjac_lis ={'A':[('B',1),('C',3),('D',7)],'B':[('D',5)],'C':[('D',12)]}\ngraph1=Graph(adjac_lis)\ngraph1.a_star_algorithm('A', 'D')",
      "metadata": {
        "trusted": true
      },
      "outputs": [
        {
          "name": "stdout",
          "text": "path found:['A', 'B', 'D']\n",
          "output_type": "stream"
        },
        {
          "execution_count": 1,
          "output_type": "execute_result",
          "data": {
            "text/plain": "['A', 'B', 'D']"
          },
          "metadata": {}
        }
      ],
      "execution_count": 1
    },
    {
      "cell_type": "code",
      "source": "",
      "metadata": {
        "trusted": true
      },
      "outputs": [],
      "execution_count": null
    }
  ]
}