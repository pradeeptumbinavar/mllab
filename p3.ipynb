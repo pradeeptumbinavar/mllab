{
  "metadata": {
    "kernelspec": {
      "name": "python",
      "display_name": "Python (Pyodide)",
      "language": "python"
    },
    "language_info": {
      "codemirror_mode": {
        "name": "python",
        "version": 3
      },
      "file_extension": ".py",
      "mimetype": "text/x-python",
      "name": "python",
      "nbconvert_exporter": "python",
      "pygments_lexer": "ipython3",
      "version": "3.8"
    }
  },
  "nbformat_minor": 4,
  "nbformat": 4,
  "cells": [
    {
      "cell_type": "code",
      "source": "import csv\nhypo = ['%','%','%','%','%','%'];\n\nwith open('trainingdata.csv') as csv_file:\n    readcsv = csv.reader(csv_file, delimiter=',')\n    print(readcsv)\n    \n    data = []\n    print(\"\\nThe given training examples are:\")\n    for row in readcsv:\n        print(row)\n        if row[len(row)-1].upper() == \"YES\":\n            data.append(row)\n\nprint(\"\\nThe positive examples are:\");\nfor x in data:\n    print(x);\nprint(\"\\n\");\n\nTotalExamples = len(data);\ni=0;\nj=0;\nk=0;\nprint(\"The steps of the Find-s algorithm are :\\n\",hypo);\nlist = [];\np=0;\nd=len(data[p])-1;\nfor j in range(d):\n    list.append(data[i][j]);\nhypo=list;\ni=1;\nfor i in range(TotalExamples):\n    for k in range(d):\n        if hypo[k]!=data[i][k]:\n            hypo[k]='?';\n            k=k+1;        \n        else:\n            hypo[k];\n    print(hypo);\ni=i+1;\n\nprint(\"\\nThe maximally specific Find-s hypothesis for the given training examples is :\");\nlist=[];\nfor i in range(d):\n    list.append(hypo[i]);\nprint(list);",
      "metadata": {
        "trusted": true
      },
      "outputs": [
        {
          "name": "stdout",
          "text": "<_csv.reader object at 0x955f70>\n\nThe given training examples are:\n['sky', 'airTemp', 'humidity', 'wind', 'water', 'forecast', 'enjoySport']\n['Sunny', 'Warm', 'Normal', 'Strong', 'Warm', 'Same', 'Yes']\n['Sunny', 'Warm', 'High', 'Strong', 'Warm', 'Same', 'Yes']\n['Rainy', 'Cold', 'High', 'Strong', 'Warm', 'Change', 'No']\n['Sunny', 'Warm', 'High', 'Strong', 'Cool', 'Change', 'Yes']\n\nThe positive examples are:\n['Sunny', 'Warm', 'Normal', 'Strong', 'Warm', 'Same', 'Yes']\n['Sunny', 'Warm', 'High', 'Strong', 'Warm', 'Same', 'Yes']\n['Sunny', 'Warm', 'High', 'Strong', 'Cool', 'Change', 'Yes']\n\n\nThe steps of the Find-s algorithm are :\n ['%', '%', '%', '%', '%', '%']\n['Sunny', 'Warm', 'Normal', 'Strong', 'Warm', 'Same']\n['Sunny', 'Warm', '?', 'Strong', 'Warm', 'Same']\n['Sunny', 'Warm', '?', 'Strong', '?', '?']\n\nThe maximally specific Find-s hypothesis for the given training examples is :\n['Sunny', 'Warm', '?', 'Strong', '?', '?']\n",
          "output_type": "stream"
        }
      ],
      "execution_count": 2
    },
    {
      "cell_type": "code",
      "source": "",
      "metadata": {
        "trusted": true
      },
      "outputs": [],
      "execution_count": null
    }
  ]
}